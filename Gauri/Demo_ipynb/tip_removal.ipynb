{
 "cells": [
  {
   "cell_type": "code",
   "execution_count": 1,
   "id": "27396e8f-f38a-43e1-8fbb-006ba6a2247a",
   "metadata": {},
   "outputs": [],
   "source": [
    "from collections import defaultdict\n",
    "from Bio import SeqIO\n",
    "import dask\n",
    "from dask import delayed, compute"
   ]
  },
  {
   "cell_type": "code",
   "execution_count": 2,
   "id": "b51fa540-6a17-498f-b506-7562d833e42d",
   "metadata": {},
   "outputs": [],
   "source": [
    "def extract_kmers(sequence, k):\n",
    "    kmers = {}\n",
    "    for i in range(len(sequence) - k + 1):\n",
    "        kmer = sequence[i:i + k]\n",
    "        predecessor = sequence[i - 1] if i > 0 else None\n",
    "        successor = sequence[i + k] if i + k < len(sequence) else None\n",
    "        \n",
    "        if kmer not in kmers:\n",
    "            kmers[kmer] = {'count': 0, 'predecessors': set(), 'successors': set()}\n",
    "        \n",
    "        kmers[kmer]['count'] += 1\n",
    "        \n",
    "        if predecessor:\n",
    "            kmers[kmer]['predecessors'].add(predecessor)\n",
    "        \n",
    "        if successor:\n",
    "            kmers[kmer]['successors'].add(successor)\n",
    "    \n",
    "    return kmers"
   ]
  },
  {
   "cell_type": "code",
   "execution_count": 3,
   "id": "9ad58977-539a-441f-badd-8ec610eae212",
   "metadata": {},
   "outputs": [],
   "source": [
    "def parse_dataset_and_get_kmers(filepath, k):\n",
    "    kmer_frequencies = {}\n",
    "    with open(filepath, 'r') as file:\n",
    "        while True:\n",
    "            header = file.readline().strip()\n",
    "            if not header:\n",
    "                break\n",
    "            sequence = file.readline().strip()\n",
    "            plus = file.readline().strip()\n",
    "            quality = file.readline().strip()\n",
    "            \n",
    "            kmers = extract_kmers(sequence, k)\n",
    "            for kmer, data in kmers.items():\n",
    "                if kmer not in kmer_frequencies:\n",
    "                    kmer_frequencies[kmer] = {'count': 0, 'predecessors': set(), 'successors': set()}\n",
    "                \n",
    "                kmer_frequencies[kmer]['count'] += data['count']\n",
    "                kmer_frequencies[kmer]['predecessors'].update(data['predecessors'])\n",
    "                kmer_frequencies[kmer]['successors'].update(data['successors'])\n",
    "    \n",
    "    return kmer_frequencies"
   ]
  },
  {
   "cell_type": "code",
   "execution_count": 4,
   "id": "2b10eee4-8261-43bb-b72b-7127cdee3027",
   "metadata": {},
   "outputs": [],
   "source": [
    "def remove_tips(graph, min_len=26):\n",
    "    to_remove = []\n",
    "    \n",
    "    for kmer, data in graph.items():\n",
    "        # A tip is defined as a k-mer that has no successors or no predecessors and is below min_len\n",
    "        if (len(data['successors']) == 0 or len(data['predecessors']) == 0) and len(kmer) < min_len:\n",
    "            to_remove.append(kmer)\n",
    "\n",
    "    # Remove tips from the graph\n",
    "    for kmer in to_remove:\n",
    "        del graph[kmer]"
   ]
  },
  {
   "cell_type": "code",
   "execution_count": 8,
   "id": "08759881-54e9-497e-98d8-d66658d3cfae",
   "metadata": {},
   "outputs": [],
   "source": [
    "def find_successor(kmer, adjacency_list):\n",
    "    \"\"\"Find the successor of a kmer using the adjacency list.\"\"\"\n",
    "    return adjacency_list.get(kmer, None)\n",
    "\n",
    "@delayed\n",
    "def construct_genome_from_kmers(kmers, adjacency_list):\n",
    "    \"\"\"Construct the genome string from kmers using the adjacency list.\"\"\"\n",
    "    genome = kmers[0]  # Start with the first k-mer\n",
    "    \n",
    "    for _ in range(len(kmers) - 1):\n",
    "        last_kmer = genome[-len(kmers[0]):]  # Get the last k-mer from the current genome string\n",
    "        successor = find_successor(last_kmer, adjacency_list)\n",
    "        if not successor:\n",
    "            break\n",
    "        \n",
    "        # Append only the last character of the successor to avoid duplication\n",
    "        genome += successor[-1]\n",
    "    \n",
    "    return genome\n",
    "\n",
    "# Function to parallelize the genome construction process\n",
    "def parallel_construct_genome(kmer_frequencies):\n",
    "    \"\"\"Parallelize the genome reconstruction process.\"\"\"\n",
    "    adjacency_list = {}\n",
    "    for kmer, data in kmer_frequencies.items():\n",
    "        if len(data['successors']) > 0:\n",
    "            adjacency_list[kmer] = next(iter(data['successors']))\n",
    "    \n",
    "    # Assuming kmers are sorted and aligned properly\n",
    "    kmers = sorted(adjacency_list.keys())\n",
    "    \n",
    "    tasks = [construct_genome_from_kmers(kmers[i:i + 100], adjacency_list) for i in range(0, len(kmers), 100)]\n",
    "    contig = compute(*tasks)\n",
    "    print(contig)"
   ]
  },
  {
   "cell_type": "code",
   "execution_count": 9,
   "id": "e7326a36-0169-4f5f-9072-0414e26ed16b",
   "metadata": {},
   "outputs": [
    {
     "ename": "KeyboardInterrupt",
     "evalue": "",
     "output_type": "error",
     "traceback": [
      "\u001b[1;31m---------------------------------------------------------------------------\u001b[0m",
      "\u001b[1;31mKeyboardInterrupt\u001b[0m                         Traceback (most recent call last)",
      "Cell \u001b[1;32mIn[9], line 3\u001b[0m\n\u001b[0;32m      1\u001b[0m \u001b[38;5;66;03m# Construct genome from k-mers using Dask\u001b[39;00m\n\u001b[0;32m      2\u001b[0m kmer_frequencies \u001b[38;5;241m=\u001b[39m parse_dataset_and_get_kmers(fastq_file, k)\n\u001b[1;32m----> 3\u001b[0m \u001b[43mparallel_construct_genome\u001b[49m\u001b[43m(\u001b[49m\u001b[43mkmer_frequencies\u001b[49m\u001b[43m)\u001b[49m\n",
      "Cell \u001b[1;32mIn[8], line 34\u001b[0m, in \u001b[0;36mparallel_construct_genome\u001b[1;34m(kmer_frequencies)\u001b[0m\n\u001b[0;32m     31\u001b[0m \u001b[38;5;66;03m# Assuming kmers are sorted and aligned properly\u001b[39;00m\n\u001b[0;32m     32\u001b[0m kmers \u001b[38;5;241m=\u001b[39m \u001b[38;5;28msorted\u001b[39m(adjacency_list\u001b[38;5;241m.\u001b[39mkeys())\n\u001b[1;32m---> 34\u001b[0m tasks \u001b[38;5;241m=\u001b[39m [construct_genome_from_kmers(kmers[i:i \u001b[38;5;241m+\u001b[39m \u001b[38;5;241m100\u001b[39m], adjacency_list) \u001b[38;5;28;01mfor\u001b[39;00m i \u001b[38;5;129;01min\u001b[39;00m \u001b[38;5;28mrange\u001b[39m(\u001b[38;5;241m0\u001b[39m, \u001b[38;5;28mlen\u001b[39m(kmers), \u001b[38;5;241m100\u001b[39m)]\n\u001b[0;32m     35\u001b[0m kmer_frequencies \u001b[38;5;241m=\u001b[39m parse_dataset_and_get_kmers(fastq_file, k)\n\u001b[0;32m     36\u001b[0m remove_tips(kmer_frequencies, min_len\u001b[38;5;241m=\u001b[39m\u001b[38;5;241m26\u001b[39m)\n",
      "Cell \u001b[1;32mIn[8], line 34\u001b[0m, in \u001b[0;36m<listcomp>\u001b[1;34m(.0)\u001b[0m\n\u001b[0;32m     31\u001b[0m \u001b[38;5;66;03m# Assuming kmers are sorted and aligned properly\u001b[39;00m\n\u001b[0;32m     32\u001b[0m kmers \u001b[38;5;241m=\u001b[39m \u001b[38;5;28msorted\u001b[39m(adjacency_list\u001b[38;5;241m.\u001b[39mkeys())\n\u001b[1;32m---> 34\u001b[0m tasks \u001b[38;5;241m=\u001b[39m [\u001b[43mconstruct_genome_from_kmers\u001b[49m\u001b[43m(\u001b[49m\u001b[43mkmers\u001b[49m\u001b[43m[\u001b[49m\u001b[43mi\u001b[49m\u001b[43m:\u001b[49m\u001b[43mi\u001b[49m\u001b[43m \u001b[49m\u001b[38;5;241;43m+\u001b[39;49m\u001b[43m \u001b[49m\u001b[38;5;241;43m100\u001b[39;49m\u001b[43m]\u001b[49m\u001b[43m,\u001b[49m\u001b[43m \u001b[49m\u001b[43madjacency_list\u001b[49m\u001b[43m)\u001b[49m \u001b[38;5;28;01mfor\u001b[39;00m i \u001b[38;5;129;01min\u001b[39;00m \u001b[38;5;28mrange\u001b[39m(\u001b[38;5;241m0\u001b[39m, \u001b[38;5;28mlen\u001b[39m(kmers), \u001b[38;5;241m100\u001b[39m)]\n\u001b[0;32m     35\u001b[0m kmer_frequencies \u001b[38;5;241m=\u001b[39m parse_dataset_and_get_kmers(fastq_file, k)\n\u001b[0;32m     36\u001b[0m remove_tips(kmer_frequencies, min_len\u001b[38;5;241m=\u001b[39m\u001b[38;5;241m26\u001b[39m)\n",
      "File \u001b[1;32m~\\AppData\\Local\\Programs\\Python\\Python310\\lib\\site-packages\\dask\\delayed.py:696\u001b[0m, in \u001b[0;36mDelayedLeaf.__call__\u001b[1;34m(self, *args, **kwargs)\u001b[0m\n\u001b[0;32m    695\u001b[0m \u001b[38;5;28;01mdef\u001b[39;00m \u001b[38;5;21m__call__\u001b[39m(\u001b[38;5;28mself\u001b[39m, \u001b[38;5;241m*\u001b[39margs, \u001b[38;5;241m*\u001b[39m\u001b[38;5;241m*\u001b[39mkwargs):\n\u001b[1;32m--> 696\u001b[0m     \u001b[38;5;28;01mreturn\u001b[39;00m \u001b[43mcall_function\u001b[49m\u001b[43m(\u001b[49m\n\u001b[0;32m    697\u001b[0m \u001b[43m        \u001b[49m\u001b[38;5;28;43mself\u001b[39;49m\u001b[38;5;241;43m.\u001b[39;49m\u001b[43m_obj\u001b[49m\u001b[43m,\u001b[49m\u001b[43m \u001b[49m\u001b[38;5;28;43mself\u001b[39;49m\u001b[38;5;241;43m.\u001b[39;49m\u001b[43m_key\u001b[49m\u001b[43m,\u001b[49m\u001b[43m \u001b[49m\u001b[43margs\u001b[49m\u001b[43m,\u001b[49m\u001b[43m \u001b[49m\u001b[43mkwargs\u001b[49m\u001b[43m,\u001b[49m\u001b[43m \u001b[49m\u001b[43mpure\u001b[49m\u001b[38;5;241;43m=\u001b[39;49m\u001b[38;5;28;43mself\u001b[39;49m\u001b[38;5;241;43m.\u001b[39;49m\u001b[43m_pure\u001b[49m\u001b[43m,\u001b[49m\u001b[43m \u001b[49m\u001b[43mnout\u001b[49m\u001b[38;5;241;43m=\u001b[39;49m\u001b[38;5;28;43mself\u001b[39;49m\u001b[38;5;241;43m.\u001b[39;49m\u001b[43m_nout\u001b[49m\n\u001b[0;32m    698\u001b[0m \u001b[43m    \u001b[49m\u001b[43m)\u001b[49m\n",
      "File \u001b[1;32m~\\AppData\\Local\\Programs\\Python\\Python310\\lib\\site-packages\\dask\\delayed.py:663\u001b[0m, in \u001b[0;36mcall_function\u001b[1;34m(func, func_token, args, kwargs, pure, nout)\u001b[0m\n\u001b[0;32m    660\u001b[0m \u001b[38;5;28;01melse\u001b[39;00m:\n\u001b[0;32m    661\u001b[0m     name \u001b[38;5;241m=\u001b[39m dask_key_name\n\u001b[1;32m--> 663\u001b[0m args2, collections \u001b[38;5;241m=\u001b[39m \u001b[43munzip\u001b[49m\u001b[43m(\u001b[49m\u001b[38;5;28;43mmap\u001b[39;49m\u001b[43m(\u001b[49m\u001b[43munpack_collections\u001b[49m\u001b[43m,\u001b[49m\u001b[43m \u001b[49m\u001b[43margs\u001b[49m\u001b[43m)\u001b[49m\u001b[43m,\u001b[49m\u001b[43m \u001b[49m\u001b[38;5;241;43m2\u001b[39;49m\u001b[43m)\u001b[49m\n\u001b[0;32m    664\u001b[0m collections \u001b[38;5;241m=\u001b[39m \u001b[38;5;28mlist\u001b[39m(concat(collections))\n\u001b[0;32m    666\u001b[0m \u001b[38;5;28;01mif\u001b[39;00m kwargs:\n",
      "File \u001b[1;32m~\\AppData\\Local\\Programs\\Python\\Python310\\lib\\site-packages\\dask\\delayed.py:39\u001b[0m, in \u001b[0;36munzip\u001b[1;34m(ls, nout)\u001b[0m\n\u001b[0;32m     37\u001b[0m \u001b[38;5;28;01mdef\u001b[39;00m \u001b[38;5;21munzip\u001b[39m(ls, nout):\n\u001b[0;32m     38\u001b[0m \u001b[38;5;250m    \u001b[39m\u001b[38;5;124;03m\"\"\"Unzip a list of lists into ``nout`` outputs.\"\"\"\u001b[39;00m\n\u001b[1;32m---> 39\u001b[0m     out \u001b[38;5;241m=\u001b[39m \u001b[38;5;28mlist\u001b[39m(\u001b[38;5;28;43mzip\u001b[39;49m\u001b[43m(\u001b[49m\u001b[38;5;241;43m*\u001b[39;49m\u001b[43mls\u001b[49m\u001b[43m)\u001b[49m)\n\u001b[0;32m     40\u001b[0m     \u001b[38;5;28;01mif\u001b[39;00m \u001b[38;5;129;01mnot\u001b[39;00m out:\n\u001b[0;32m     41\u001b[0m         out \u001b[38;5;241m=\u001b[39m [()] \u001b[38;5;241m*\u001b[39m nout\n",
      "File \u001b[1;32m~\\AppData\\Local\\Programs\\Python\\Python310\\lib\\site-packages\\dask\\delayed.py:113\u001b[0m, in \u001b[0;36munpack_collections\u001b[1;34m(expr)\u001b[0m\n\u001b[0;32m    110\u001b[0m     \u001b[38;5;28;01mreturn\u001b[39;00m args, collections\n\u001b[0;32m    112\u001b[0m \u001b[38;5;28;01mif\u001b[39;00m typ \u001b[38;5;129;01mis\u001b[39;00m \u001b[38;5;28mdict\u001b[39m:\n\u001b[1;32m--> 113\u001b[0m     args, collections \u001b[38;5;241m=\u001b[39m \u001b[43munpack_collections\u001b[49m\u001b[43m(\u001b[49m\u001b[43m[\u001b[49m\u001b[43m[\u001b[49m\u001b[43mk\u001b[49m\u001b[43m,\u001b[49m\u001b[43m \u001b[49m\u001b[43mv\u001b[49m\u001b[43m]\u001b[49m\u001b[43m \u001b[49m\u001b[38;5;28;43;01mfor\u001b[39;49;00m\u001b[43m \u001b[49m\u001b[43mk\u001b[49m\u001b[43m,\u001b[49m\u001b[43m \u001b[49m\u001b[43mv\u001b[49m\u001b[43m \u001b[49m\u001b[38;5;129;43;01min\u001b[39;49;00m\u001b[43m \u001b[49m\u001b[43mexpr\u001b[49m\u001b[38;5;241;43m.\u001b[39;49m\u001b[43mitems\u001b[49m\u001b[43m(\u001b[49m\u001b[43m)\u001b[49m\u001b[43m]\u001b[49m\u001b[43m)\u001b[49m\n\u001b[0;32m    114\u001b[0m     \u001b[38;5;28;01mreturn\u001b[39;00m (\u001b[38;5;28mdict\u001b[39m, args), collections\n\u001b[0;32m    116\u001b[0m \u001b[38;5;28;01mif\u001b[39;00m typ \u001b[38;5;129;01mis\u001b[39;00m \u001b[38;5;28mslice\u001b[39m:\n",
      "File \u001b[1;32m~\\AppData\\Local\\Programs\\Python\\Python310\\lib\\site-packages\\dask\\delayed.py:104\u001b[0m, in \u001b[0;36munpack_collections\u001b[1;34m(expr)\u001b[0m\n\u001b[0;32m    101\u001b[0m typ \u001b[38;5;241m=\u001b[39m \u001b[38;5;28mtype\u001b[39m(expr)\n\u001b[0;32m    103\u001b[0m \u001b[38;5;28;01mif\u001b[39;00m typ \u001b[38;5;129;01min\u001b[39;00m (\u001b[38;5;28mlist\u001b[39m, \u001b[38;5;28mtuple\u001b[39m, \u001b[38;5;28mset\u001b[39m):\n\u001b[1;32m--> 104\u001b[0m     args, collections \u001b[38;5;241m=\u001b[39m \u001b[43munzip\u001b[49m\u001b[43m(\u001b[49m\u001b[43m(\u001b[49m\u001b[43munpack_collections\u001b[49m\u001b[43m(\u001b[49m\u001b[43me\u001b[49m\u001b[43m)\u001b[49m\u001b[43m \u001b[49m\u001b[38;5;28;43;01mfor\u001b[39;49;00m\u001b[43m \u001b[49m\u001b[43me\u001b[49m\u001b[43m \u001b[49m\u001b[38;5;129;43;01min\u001b[39;49;00m\u001b[43m \u001b[49m\u001b[43mexpr\u001b[49m\u001b[43m)\u001b[49m\u001b[43m,\u001b[49m\u001b[43m \u001b[49m\u001b[38;5;241;43m2\u001b[39;49m\u001b[43m)\u001b[49m\n\u001b[0;32m    105\u001b[0m     args \u001b[38;5;241m=\u001b[39m \u001b[38;5;28mlist\u001b[39m(args)\n\u001b[0;32m    106\u001b[0m     collections \u001b[38;5;241m=\u001b[39m \u001b[38;5;28mtuple\u001b[39m(unique(concat(collections), key\u001b[38;5;241m=\u001b[39m\u001b[38;5;28mid\u001b[39m))\n",
      "File \u001b[1;32m~\\AppData\\Local\\Programs\\Python\\Python310\\lib\\site-packages\\dask\\delayed.py:39\u001b[0m, in \u001b[0;36munzip\u001b[1;34m(ls, nout)\u001b[0m\n\u001b[0;32m     37\u001b[0m \u001b[38;5;28;01mdef\u001b[39;00m \u001b[38;5;21munzip\u001b[39m(ls, nout):\n\u001b[0;32m     38\u001b[0m \u001b[38;5;250m    \u001b[39m\u001b[38;5;124;03m\"\"\"Unzip a list of lists into ``nout`` outputs.\"\"\"\u001b[39;00m\n\u001b[1;32m---> 39\u001b[0m     out \u001b[38;5;241m=\u001b[39m \u001b[38;5;28mlist\u001b[39m(\u001b[38;5;28;43mzip\u001b[39;49m\u001b[43m(\u001b[49m\u001b[38;5;241;43m*\u001b[39;49m\u001b[43mls\u001b[49m\u001b[43m)\u001b[49m)\n\u001b[0;32m     40\u001b[0m     \u001b[38;5;28;01mif\u001b[39;00m \u001b[38;5;129;01mnot\u001b[39;00m out:\n\u001b[0;32m     41\u001b[0m         out \u001b[38;5;241m=\u001b[39m [()] \u001b[38;5;241m*\u001b[39m nout\n",
      "File \u001b[1;32m~\\AppData\\Local\\Programs\\Python\\Python310\\lib\\site-packages\\dask\\delayed.py:104\u001b[0m, in \u001b[0;36m<genexpr>\u001b[1;34m(.0)\u001b[0m\n\u001b[0;32m    101\u001b[0m typ \u001b[38;5;241m=\u001b[39m \u001b[38;5;28mtype\u001b[39m(expr)\n\u001b[0;32m    103\u001b[0m \u001b[38;5;28;01mif\u001b[39;00m typ \u001b[38;5;129;01min\u001b[39;00m (\u001b[38;5;28mlist\u001b[39m, \u001b[38;5;28mtuple\u001b[39m, \u001b[38;5;28mset\u001b[39m):\n\u001b[1;32m--> 104\u001b[0m     args, collections \u001b[38;5;241m=\u001b[39m unzip((\u001b[43munpack_collections\u001b[49m\u001b[43m(\u001b[49m\u001b[43me\u001b[49m\u001b[43m)\u001b[49m \u001b[38;5;28;01mfor\u001b[39;00m e \u001b[38;5;129;01min\u001b[39;00m expr), \u001b[38;5;241m2\u001b[39m)\n\u001b[0;32m    105\u001b[0m     args \u001b[38;5;241m=\u001b[39m \u001b[38;5;28mlist\u001b[39m(args)\n\u001b[0;32m    106\u001b[0m     collections \u001b[38;5;241m=\u001b[39m \u001b[38;5;28mtuple\u001b[39m(unique(concat(collections), key\u001b[38;5;241m=\u001b[39m\u001b[38;5;28mid\u001b[39m))\n",
      "File \u001b[1;32m~\\AppData\\Local\\Programs\\Python\\Python310\\lib\\site-packages\\dask\\delayed.py:104\u001b[0m, in \u001b[0;36munpack_collections\u001b[1;34m(expr)\u001b[0m\n\u001b[0;32m    101\u001b[0m typ \u001b[38;5;241m=\u001b[39m \u001b[38;5;28mtype\u001b[39m(expr)\n\u001b[0;32m    103\u001b[0m \u001b[38;5;28;01mif\u001b[39;00m typ \u001b[38;5;129;01min\u001b[39;00m (\u001b[38;5;28mlist\u001b[39m, \u001b[38;5;28mtuple\u001b[39m, \u001b[38;5;28mset\u001b[39m):\n\u001b[1;32m--> 104\u001b[0m     args, collections \u001b[38;5;241m=\u001b[39m \u001b[43munzip\u001b[49m\u001b[43m(\u001b[49m\u001b[43m(\u001b[49m\u001b[43munpack_collections\u001b[49m\u001b[43m(\u001b[49m\u001b[43me\u001b[49m\u001b[43m)\u001b[49m\u001b[43m \u001b[49m\u001b[38;5;28;43;01mfor\u001b[39;49;00m\u001b[43m \u001b[49m\u001b[43me\u001b[49m\u001b[43m \u001b[49m\u001b[38;5;129;43;01min\u001b[39;49;00m\u001b[43m \u001b[49m\u001b[43mexpr\u001b[49m\u001b[43m)\u001b[49m\u001b[43m,\u001b[49m\u001b[43m \u001b[49m\u001b[38;5;241;43m2\u001b[39;49m\u001b[43m)\u001b[49m\n\u001b[0;32m    105\u001b[0m     args \u001b[38;5;241m=\u001b[39m \u001b[38;5;28mlist\u001b[39m(args)\n\u001b[0;32m    106\u001b[0m     collections \u001b[38;5;241m=\u001b[39m \u001b[38;5;28mtuple\u001b[39m(unique(concat(collections), key\u001b[38;5;241m=\u001b[39m\u001b[38;5;28mid\u001b[39m))\n",
      "File \u001b[1;32m~\\AppData\\Local\\Programs\\Python\\Python310\\lib\\site-packages\\dask\\delayed.py:39\u001b[0m, in \u001b[0;36munzip\u001b[1;34m(ls, nout)\u001b[0m\n\u001b[0;32m     37\u001b[0m \u001b[38;5;28;01mdef\u001b[39;00m \u001b[38;5;21munzip\u001b[39m(ls, nout):\n\u001b[0;32m     38\u001b[0m \u001b[38;5;250m    \u001b[39m\u001b[38;5;124;03m\"\"\"Unzip a list of lists into ``nout`` outputs.\"\"\"\u001b[39;00m\n\u001b[1;32m---> 39\u001b[0m     out \u001b[38;5;241m=\u001b[39m \u001b[38;5;28mlist\u001b[39m(\u001b[38;5;28;43mzip\u001b[39;49m\u001b[43m(\u001b[49m\u001b[38;5;241;43m*\u001b[39;49m\u001b[43mls\u001b[49m\u001b[43m)\u001b[49m)\n\u001b[0;32m     40\u001b[0m     \u001b[38;5;28;01mif\u001b[39;00m \u001b[38;5;129;01mnot\u001b[39;00m out:\n\u001b[0;32m     41\u001b[0m         out \u001b[38;5;241m=\u001b[39m [()] \u001b[38;5;241m*\u001b[39m nout\n",
      "File \u001b[1;32m~\\AppData\\Local\\Programs\\Python\\Python310\\lib\\site-packages\\dask\\delayed.py:104\u001b[0m, in \u001b[0;36m<genexpr>\u001b[1;34m(.0)\u001b[0m\n\u001b[0;32m    101\u001b[0m typ \u001b[38;5;241m=\u001b[39m \u001b[38;5;28mtype\u001b[39m(expr)\n\u001b[0;32m    103\u001b[0m \u001b[38;5;28;01mif\u001b[39;00m typ \u001b[38;5;129;01min\u001b[39;00m (\u001b[38;5;28mlist\u001b[39m, \u001b[38;5;28mtuple\u001b[39m, \u001b[38;5;28mset\u001b[39m):\n\u001b[1;32m--> 104\u001b[0m     args, collections \u001b[38;5;241m=\u001b[39m unzip((\u001b[43munpack_collections\u001b[49m\u001b[43m(\u001b[49m\u001b[43me\u001b[49m\u001b[43m)\u001b[49m \u001b[38;5;28;01mfor\u001b[39;00m e \u001b[38;5;129;01min\u001b[39;00m expr), \u001b[38;5;241m2\u001b[39m)\n\u001b[0;32m    105\u001b[0m     args \u001b[38;5;241m=\u001b[39m \u001b[38;5;28mlist\u001b[39m(args)\n\u001b[0;32m    106\u001b[0m     collections \u001b[38;5;241m=\u001b[39m \u001b[38;5;28mtuple\u001b[39m(unique(concat(collections), key\u001b[38;5;241m=\u001b[39m\u001b[38;5;28mid\u001b[39m))\n",
      "File \u001b[1;32m~\\AppData\\Local\\Programs\\Python\\Python310\\lib\\site-packages\\dask\\delayed.py:56\u001b[0m, in \u001b[0;36munpack_collections\u001b[1;34m(expr)\u001b[0m\n\u001b[0;32m     52\u001b[0m     graph \u001b[38;5;241m=\u001b[39m HighLevelGraph\u001b[38;5;241m.\u001b[39mfrom_collections(name, layer, dependencies\u001b[38;5;241m=\u001b[39m[collection])\n\u001b[0;32m     53\u001b[0m     \u001b[38;5;28;01mreturn\u001b[39;00m Delayed(name, graph)\n\u001b[1;32m---> 56\u001b[0m \u001b[38;5;28;01mdef\u001b[39;00m \u001b[38;5;21munpack_collections\u001b[39m(expr):\n\u001b[0;32m     57\u001b[0m \u001b[38;5;250m    \u001b[39m\u001b[38;5;124;03m\"\"\"Normalize a python object and merge all sub-graphs.\u001b[39;00m\n\u001b[0;32m     58\u001b[0m \n\u001b[0;32m     59\u001b[0m \u001b[38;5;124;03m    - Replace ``Delayed`` with their keys\u001b[39;00m\n\u001b[1;32m   (...)\u001b[0m\n\u001b[0;32m     89\u001b[0m \u001b[38;5;124;03m    (Delayed('a'), Delayed('b'))\u001b[39;00m\n\u001b[0;32m     90\u001b[0m \u001b[38;5;124;03m    \"\"\"\u001b[39;00m\n\u001b[0;32m     91\u001b[0m     \u001b[38;5;28;01mif\u001b[39;00m \u001b[38;5;28misinstance\u001b[39m(expr, Delayed):\n",
      "\u001b[1;31mKeyboardInterrupt\u001b[0m: "
     ]
    }
   ],
   "source": [
    "fastq_file = \"16S_WT_day3_11_SRR2628505_1.fastq\"\n",
    "k = 21\n",
    "\n",
    "# Get k-mer frequencies\n",
    "kmer_frequencies = parse_dataset_and_get_kmers(fastq_file, k)\n",
    "\n",
    "# Remove tips from the k-mer graph\n",
    "remove_tips(kmer_frequencies, min_len=26)\n",
    "\n",
    "# Construct genome from k-mers using Dask\n",
    "parallel_construct_genome(kmer_frequencies)"
   ]
  },
  {
   "cell_type": "code",
   "execution_count": null,
   "id": "bf86caea-ac11-4175-8e5e-524e115fe0ed",
   "metadata": {},
   "outputs": [],
   "source": []
  }
 ],
 "metadata": {
  "kernelspec": {
   "display_name": "Python 3 (ipykernel)",
   "language": "python",
   "name": "python3"
  },
  "language_info": {
   "codemirror_mode": {
    "name": "ipython",
    "version": 3
   },
   "file_extension": ".py",
   "mimetype": "text/x-python",
   "name": "python",
   "nbconvert_exporter": "python",
   "pygments_lexer": "ipython3",
   "version": "3.10.5"
  }
 },
 "nbformat": 4,
 "nbformat_minor": 5
}
